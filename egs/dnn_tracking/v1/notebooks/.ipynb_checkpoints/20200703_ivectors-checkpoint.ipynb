{
 "cells": [
  {
   "cell_type": "code",
   "execution_count": 1,
   "metadata": {},
   "outputs": [],
   "source": [
    "import sys\n",
    "spath = '../'\n",
    "sys.path.insert(0,spath)\n",
    "from scripts.models import get_rttm_segments_features\n",
    "from scripts.notebook import limit_speakers_number"
   ]
  },
  {
   "cell_type": "code",
   "execution_count": 2,
   "metadata": {},
   "outputs": [],
   "source": [
    "dev_rttm     = '../exp/dihardii/development/ref_augmented_0_1.5_0.5_0.5.rttm'\n",
    "dev_segments = '../exp/dihardii/development/augmented_0/segments'\n",
    "dev_ivectors = '../exp/dihardii/development/augmented_0/exp/make_ivectors/ivector.txt'\n",
    "dev_files_segments = get_rttm_segments_features(dev_rttm, dev_segments, dev_ivectors)"
   ]
  },
  {
   "cell_type": "code",
   "execution_count": 3,
   "metadata": {},
   "outputs": [],
   "source": [
    "eval_rttm     = '../exp/dihardii/evaluation/ref_augmented_0_1.5_0.5_0.5.rttm'\n",
    "eval_segments = '../exp/dihardii/evaluation/augmented_0/segments'\n",
    "eval_ivectors = '../exp/dihardii/evaluation/augmented_0/exp/make_ivectors/ivector.txt'\n",
    "eval_files_segments = get_rttm_segments_features(eval_rttm, eval_segments, eval_ivectors)"
   ]
  },
  {
   "cell_type": "code",
   "execution_count": 4,
   "metadata": {},
   "outputs": [
    {
     "name": "stdout",
     "output_type": "stream",
     "text": [
      "Kept 93673 of 94517: 0.991070389453749\n",
      "Kept 87295 of 88018: 0.9917857710922766\n"
     ]
    }
   ],
   "source": [
    "dev_files_segments_lim = limit_speakers_number(dev_files_segments, 2, log = True)\n",
    "eval_files_segments_lim = limit_speakers_number(eval_files_segments, 2, log = True)"
   ]
  },
  {
   "cell_type": "code",
   "execution_count": null,
   "metadata": {},
   "outputs": [],
   "source": []
  }
 ],
 "metadata": {
  "kernelspec": {
   "display_name": "Python 3",
   "language": "python",
   "name": "python3"
  },
  "language_info": {
   "codemirror_mode": {
    "name": "ipython",
    "version": 3
   },
   "file_extension": ".py",
   "mimetype": "text/x-python",
   "name": "python",
   "nbconvert_exporter": "python",
   "pygments_lexer": "ipython3",
   "version": "3.6.9"
  }
 },
 "nbformat": 4,
 "nbformat_minor": 4
}
