{
 "cells": [
  {
   "cell_type": "code",
   "execution_count": 1,
   "metadata": {},
   "outputs": [],
   "source": [
    "import sys\n",
    "spath = '../'\n",
    "sys.path.insert(0,spath)"
   ]
  },
  {
   "cell_type": "code",
   "execution_count": 2,
   "metadata": {},
   "outputs": [],
   "source": [
    "from scripts.models import get_rttm_segments_features"
   ]
  },
  {
   "cell_type": "code",
   "execution_count": 3,
   "metadata": {},
   "outputs": [],
   "source": [
    "development_rttm     = '../exp/dihardii/development/ref_augmented_0_1.5_0.5_0.5.rttm'\n",
    "development_segments = '../exp/dihardii/development/augmented_0/segments'\n",
    "development_ivectors = '../exp/dihardii/development/augmented_0/exp/make_ivectors/ivector.txt'\n",
    "development_files_segments = get_rttm_segments_features(development_rttm, development_segments, development_ivectors)"
   ]
  },
  {
   "cell_type": "code",
   "execution_count": null,
   "metadata": {},
   "outputs": [],
   "source": [
    "evaluation_rttm     = '../exp/dihardii/evaluation/ref_augmented_0_1.5_0.5_0.5.rttm'\n",
    "evaluation_segments = '../exp/dihardii/evaluation/augmented_0/segments'\n",
    "evaluation_ivectors = '../exp/dihardii/evaluation/augmented_0/exp/make_ivectors/ivector.txt'\n",
    "evaluation_files_segments = get_rttm_segments_features(evaluation_rttm, evaluation_segments, evaluation_ivectors)"
   ]
  },
  {
   "cell_type": "code",
   "execution_count": null,
   "metadata": {},
   "outputs": [],
   "source": []
  }
 ],
 "metadata": {
  "kernelspec": {
   "display_name": "Python 3",
   "language": "python",
   "name": "python3"
  },
  "language_info": {
   "codemirror_mode": {
    "name": "ipython",
    "version": 3
   },
   "file_extension": ".py",
   "mimetype": "text/x-python",
   "name": "python",
   "nbconvert_exporter": "python",
   "pygments_lexer": "ipython3",
   "version": "3.6.9"
  }
 },
 "nbformat": 4,
 "nbformat_minor": 4
}
