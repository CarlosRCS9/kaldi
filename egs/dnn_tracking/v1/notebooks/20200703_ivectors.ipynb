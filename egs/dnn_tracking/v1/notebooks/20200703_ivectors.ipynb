{
 "cells": [
  {
   "cell_type": "code",
   "execution_count": 1,
   "metadata": {},
   "outputs": [],
   "source": [
    "import sys\n",
    "spath = '../'\n",
    "sys.path.insert(0,spath)\n",
    "from scripts.models import get_rttm_segments_features, sort_segments_by_speakers, Ivector\n",
    "from scripts.notebook import limit_speakers_number, get_speakers_segments_indexes, get_speakers_models, get_speakers_permutations"
   ]
  },
  {
   "cell_type": "code",
   "execution_count": 2,
   "metadata": {},
   "outputs": [],
   "source": [
    "dev_rttm     = '../exp/dihardii/development/ref_augmented_0_1.5_0.5_0.5.rttm'\n",
    "dev_segments = '../exp/dihardii/development/augmented_0/segments'\n",
    "dev_ivectors = '../exp/dihardii/development/augmented_0/exp/make_ivectors/ivector.txt'\n",
    "dev_files_segments = get_rttm_segments_features(dev_rttm, dev_segments, dev_ivectors)"
   ]
  },
  {
   "cell_type": "code",
   "execution_count": 3,
   "metadata": {},
   "outputs": [],
   "source": [
    "eval_rttm     = '../exp/dihardii/evaluation/ref_augmented_0_1.5_0.5_0.5.rttm'\n",
    "eval_segments = '../exp/dihardii/evaluation/augmented_0/segments'\n",
    "eval_ivectors = '../exp/dihardii/evaluation/augmented_0/exp/make_ivectors/ivector.txt'\n",
    "eval_files_segments = get_rttm_segments_features(eval_rttm, eval_segments, eval_ivectors)"
   ]
  },
  {
   "cell_type": "code",
   "execution_count": 4,
   "metadata": {},
   "outputs": [
    {
     "name": "stdout",
     "output_type": "stream",
     "text": [
      "Kept 93673 of 94517: 0.991070389453749\n",
      "Kept 87295 of 88018: 0.9917857710922766\n"
     ]
    }
   ],
   "source": [
    "dev_files_segments_lim = limit_speakers_number(dev_files_segments, 2, log = True)\n",
    "eval_files_segments_lim = limit_speakers_number(eval_files_segments, 2, log = True)"
   ]
  },
  {
   "cell_type": "code",
   "execution_count": 5,
   "metadata": {},
   "outputs": [],
   "source": [
    "from torch.utils.data import Dataset\n",
    "import numpy\n",
    "\n",
    "class Files_dataset(Dataset):\n",
    "    def __init__(self,\n",
    "                 files_segments,\n",
    "                 models_generation_lengths = [3],\n",
    "                 models_container_length = 2,\n",
    "                 include_zeros = True,\n",
    "                 include_overlaps = False,\n",
    "                 feature='ivectors'):\n",
    "        self.files_segments = files_segments\n",
    "        self.include_overlaps = include_overlaps\n",
    "        self.feature = feature\n",
    "        \n",
    "        self.speakers_segments_indexes = {}\n",
    "        self.speakers_models = {}\n",
    "        self.speakers_permutations = {}\n",
    "        self.lookup = []\n",
    "        self.length = 0\n",
    "        for file_id, segments in self.files_segments.items():\n",
    "            self.speakers_segments_indexes[file_id] = get_speakers_segments_indexes(enumerate(segments))\n",
    "            self.speakers_models[file_id] = get_speakers_models(segments,\n",
    "                                                                self.speakers_segments_indexes[file_id],\n",
    "                                                                models_generation_lengths)\n",
    "            self.speakers_permutations[file_id] = get_speakers_permutations(self.speakers_models[file_id],\n",
    "                                                                            models_container_length,\n",
    "                                                                            include_zeros,\n",
    "                                                                            include_overlaps)\n",
    "            for index, permutation in enumerate(self.speakers_permutations[file_id]):\n",
    "                models_length = numpy.prod([len(self.speakers_models[file_id][speakers_names].keys())\\\n",
    "                if speakers_names != '0' else 1 for speakers_names in permutation])\n",
    "                length = models_length * len(segments)\n",
    "                self.lookup.append({\\\n",
    "                                    'file_id': file_id,\\\n",
    "                                    'permutation_index': index,\\\n",
    "                                    'models_length': models_length,\\\n",
    "                                    'segments_length': len(segments),\\\n",
    "                                    'permutation_length': length,\\\n",
    "                                    'onset': self.length,\\\n",
    "                                    'end': self.length + length - 1 })\n",
    "                self.length += length      \n",
    "    def __len__(self):\n",
    "        return self.length\n",
    "    def __getitem__(self, idx):\n",
    "        lookup = [value for value in self.lookup if value['onset'] <= idx and idx <= value['end']][0]\n",
    "        index = idx - lookup['onset']\n",
    "        \n",
    "        permutation = self.speakers_permutations[lookup['file_id']][lookup['permutation_index']]\n",
    "        remainder, segment_index = divmod(index, lookup['segments_length'])\n",
    "        models_container = []\n",
    "        for index, speakers_names in enumerate(permutation):\n",
    "            models_lengths = [len(self.speakers_models[lookup['file_id']][speakers_names].keys()) if speakers_names != '0' else 1 for speakers_names in permutation][index + 1:]\n",
    "            if index != len(permutation) - 1:\n",
    "                model_index, remainder = divmod(remainder, int(numpy.prod(models_lengths)))\n",
    "            else:\n",
    "                model_index = remainder\n",
    "            if speakers_names != '0':\n",
    "                models_container.append(self.speakers_models[lookup['file_id']][speakers_names][list(self.speakers_models[lookup['file_id']][speakers_names].keys())[model_index]])\n",
    "            else:\n",
    "                # TODO: improve\n",
    "                models_container.append({ 'ivectors': [Ivector(numpy.random.uniform(-0.1, 0.1, 400))] })\n",
    "        \n",
    "        segment = self.files_segments[lookup['file_id']][segment_index]\n",
    "        segment_speakers = [speaker.get_name() for speaker in segment.get_speakers()]\n",
    "        \n",
    "        x = [value[self.feature][0].get_value() for value\\\n",
    "             in models_container + [{ 'ivectors': segment.get_ivectors() }]]\n",
    "        if self.include_overlaps:\n",
    "            segment_speakers = ','.join(sorted(set(segment_speakers)))\n",
    "            y = numpy.asarray([speakers_names == segment_speakers for speakers_names in permutation], dtype = float)\n",
    "        else:\n",
    "            y = numpy.asarray([speakers_names in segment_speakers for speakers_names in permutation], dtype = float) / len(segment_speakers)\n",
    "        \n",
    "        return x, y"
   ]
  },
  {
   "cell_type": "code",
   "execution_count": null,
   "metadata": {},
   "outputs": [],
   "source": []
  }
 ],
 "metadata": {
  "kernelspec": {
   "display_name": "Python 3",
   "language": "python",
   "name": "python3"
  },
  "language_info": {
   "codemirror_mode": {
    "name": "ipython",
    "version": 3
   },
   "file_extension": ".py",
   "mimetype": "text/x-python",
   "name": "python",
   "nbconvert_exporter": "python",
   "pygments_lexer": "ipython3",
   "version": "3.6.9"
  }
 },
 "nbformat": 4,
 "nbformat_minor": 4
}
