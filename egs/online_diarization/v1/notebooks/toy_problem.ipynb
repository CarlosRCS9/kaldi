{
 "cells": [
  {
   "cell_type": "markdown",
   "metadata": {},
   "source": [
    "## Toy problem"
   ]
  },
  {
   "cell_type": "code",
   "execution_count": 1,
   "metadata": {},
   "outputs": [],
   "source": [
    "import torch\n",
    "import numpy"
   ]
  },
  {
   "cell_type": "code",
   "execution_count": 2,
   "metadata": {},
   "outputs": [
    {
     "name": "stdout",
     "output_type": "stream",
     "text": [
      "Running on the GPU.\n"
     ]
    }
   ],
   "source": [
    "if torch.cuda.is_available():\n",
    "    device = torch.device('cuda:0')\n",
    "    print('Running on the GPU.')\n",
    "else:\n",
    "    device = torch.device('cpu')\n",
    "    print('Running on the CPU.')"
   ]
  },
  {
   "cell_type": "code",
   "execution_count": 3,
   "metadata": {},
   "outputs": [],
   "source": [
    "vector_length = 5\n",
    "models_ids = ['A', 'B', 'C'] \n",
    "#models = numpy.asarray([[43 for i in range(vector_length)], [-828 for i in range(vector_length)], [453 for i in range(vector_length)]], dtype = float)\n",
    "models = numpy.asarray([numpy.random.normal(43, 1.0, vector_length), numpy.random.normal(-828, 1.0, vector_length), numpy.random.normal(453, 1.0, vector_length)], dtype = float)\n",
    "data = {}\n",
    "data_map = []\n",
    "data_length = 0\n",
    "for idx, model_id in enumerate(models_ids):\n",
    "    data[model_id] = {}\n",
    "    data[model_id]['model_id'] = model_id\n",
    "    data[model_id]['model'] = models[idx]\n",
    "    #data[model_id]['vectors'] = [numpy.random.normal(data[model_id]['model'][0], 5.0, vector_length) for i in range(10000)]\n",
    "    data[model_id]['vectors'] = [numpy.asarray([value for value in data[model_id]['model']]) for i in range(10000)]\n",
    "    length = len(data[model_id]['vectors'])\n",
    "    data_map.append((data_length, data_length + length - 1, model_id))\n",
    "    data_length += length"
   ]
  },
  {
   "cell_type": "code",
   "execution_count": 4,
   "metadata": {},
   "outputs": [
    {
     "name": "stdout",
     "output_type": "stream",
     "text": [
      "(array([  43.3291097 ,   44.25739582,   43.18322558,   43.82884937,\n",
      "         43.86099993,   43.3291097 ,   44.25739582,   43.18322558,\n",
      "         43.82884937,   43.86099993, -826.96909435, -828.50882847,\n",
      "       -827.20874069, -829.50712132, -829.01829793,  451.1246898 ,\n",
      "        451.36999668,  451.37096499,  451.03752116,  451.31414493]), array([1., 0., 0.]))\n"
     ]
    }
   ],
   "source": [
    "from torch.utils.data import Dataset, DataLoader, random_split\n",
    "\n",
    "class Toy_dataset(Dataset):\n",
    "    def __init__(self, data, data_length, data_map):\n",
    "        self.data = data\n",
    "        self.data_length = data_length\n",
    "        self.data_map = data_map\n",
    "    def __len__(self):\n",
    "        return self.data_length\n",
    "    def __getitem__(self, idx):\n",
    "        data_tuple = list(filter(lambda data_tuple: data_tuple[0] <= idx and idx <= data_tuple[1], self.data_map))[0]\n",
    "        data_idx = idx - data_tuple[0]\n",
    "        data_id = data_tuple[2]\n",
    "        entry = data[data_id]\n",
    "        vector = entry['vectors'][data_idx]\n",
    "        permutations = [model_id for model_id in data]\n",
    "        models = [data[model_id]['model'] for model_id in permutations]\n",
    "        permutations = numpy.asarray([model_id == entry['model_id'] for model_id in permutations], dtype = float)\n",
    "        \n",
    "        x = numpy.concatenate([vector] + models)\n",
    "        y = permutations\n",
    "        \n",
    "        return x, y\n",
    "        \n",
    "toy_dataset = Toy_dataset(data, data_length, data_map)\n",
    "print(toy_dataset[55])\n",
    "\n",
    "train_length = int(len(toy_dataset) * 0.7)\n",
    "test_length = len(toy_dataset) - train_length\n",
    "cross_length = int(train_length * 0.3)\n",
    "train_length = train_length - cross_length\n",
    "\n",
    "train_dataset, cross_dataset, test_dataset = random_split(toy_dataset, [train_length, cross_length, test_length])\n",
    "train_dataloader = DataLoader(train_dataset, batch_size = 10, shuffle=True, num_workers = 4)\n",
    "cross_dataloader = DataLoader(cross_dataset, batch_size = len(cross_dataset), num_workers = 4)"
   ]
  },
  {
   "cell_type": "code",
   "execution_count": 5,
   "metadata": {},
   "outputs": [],
   "source": [
    "import torch.nn as nn\n",
    "import torch.nn.functional as F\n",
    "\n",
    "class Net(nn.Module):\n",
    "    def __init__(self):\n",
    "        super().__init__()\n",
    "        self.fc0 = nn.Linear(4 * vector_length, 4)\n",
    "        self.fc1 = nn.Linear(4, 4)\n",
    "        self.fc2 = nn.Linear(4, 4)\n",
    "        self.fc3 = nn.Linear(4, 3)\n",
    "    def forward(self, x):\n",
    "        x = F.relu(self.fc0(x))\n",
    "        x = F.relu(self.fc1(x))\n",
    "        x = F.relu(self.fc2(x))\n",
    "        x = F.sigmoid(self.fc3(x))\n",
    "        return x"
   ]
  },
  {
   "cell_type": "code",
   "execution_count": 6,
   "metadata": {},
   "outputs": [
    {
     "name": "stderr",
     "output_type": "stream",
     "text": [
      "/home/user/miniconda/envs/py36/lib/python3.6/site-packages/torch/nn/functional.py:1350: UserWarning: nn.functional.sigmoid is deprecated. Use torch.sigmoid instead.\n",
      "  warnings.warn(\"nn.functional.sigmoid is deprecated. Use torch.sigmoid instead.\")\n"
     ]
    },
    {
     "name": "stdout",
     "output_type": "stream",
     "text": [
      "epoch: 0 loss: tensor(0.1824, device='cuda:0', grad_fn=<BinaryCrossEntropyBackward>) cross_loss: tensor(0.2753, device='cuda:0')\n",
      "epoch: 1 loss: tensor(0.1410, device='cuda:0', grad_fn=<BinaryCrossEntropyBackward>) cross_loss: tensor(0.2340, device='cuda:0')\n",
      "epoch: 2 loss: tensor(0.3157, device='cuda:0', grad_fn=<BinaryCrossEntropyBackward>) cross_loss: tensor(0.2119, device='cuda:0')\n",
      "epoch: 3 loss: tensor(0.1147, device='cuda:0', grad_fn=<BinaryCrossEntropyBackward>) cross_loss: tensor(0.1920, device='cuda:0')\n",
      "epoch: 4 loss: tensor(0.1558, device='cuda:0', grad_fn=<BinaryCrossEntropyBackward>) cross_loss: tensor(0.1741, device='cuda:0')\n",
      "epoch: 5 loss: tensor(3.9722e-05, device='cuda:0', grad_fn=<BinaryCrossEntropyBackward>) cross_loss: tensor(0.1574, device='cuda:0')\n",
      "epoch: 6 loss: tensor(0.2120, device='cuda:0', grad_fn=<BinaryCrossEntropyBackward>) cross_loss: tensor(0.1421, device='cuda:0')\n",
      "epoch: 7 loss: tensor(0.0764, device='cuda:0', grad_fn=<BinaryCrossEntropyBackward>) cross_loss: tensor(0.1281, device='cuda:0')\n",
      "epoch: 8 loss: tensor(0.1375, device='cuda:0', grad_fn=<BinaryCrossEntropyBackward>) cross_loss: tensor(0.1152, device='cuda:0')\n",
      "epoch: 9 loss: tensor(0.1543, device='cuda:0', grad_fn=<BinaryCrossEntropyBackward>) cross_loss: tensor(0.1034, device='cuda:0')\n"
     ]
    }
   ],
   "source": [
    "import torch.optim as optim\n",
    "\n",
    "net = Net().to(device)\n",
    "\n",
    "optimizer = optim.Adam(net.parameters(), lr = 0.0001)\n",
    "criterion = nn.BCELoss()\n",
    "\n",
    "epochs = 10\n",
    "for epoch in range(epochs):\n",
    "    for input, target in train_dataloader:\n",
    "        input = input.to(device, non_blocking=True).float()\n",
    "        target = target.to(device, non_blocking=True).float()\n",
    "\n",
    "        net.zero_grad()\n",
    "\n",
    "        output = net(input)\n",
    "\n",
    "        loss = criterion(output, target)\n",
    "\n",
    "        loss.backward()\n",
    "        optimizer.step()\n",
    "    with torch.no_grad():\n",
    "        for input, target in cross_dataloader:\n",
    "            input = input.to(device, non_blocking=True).float()\n",
    "            target = target.to(device, non_blocking=True).float()\n",
    "            output = net(input)\n",
    "            cross_loss = criterion(output, target)\n",
    "        \n",
    "    print('epoch:', epoch, 'loss:', loss, 'cross_loss:', cross_loss)\n",
    "    \n",
    "    if cross_loss < 0.01:\n",
    "        print('Done training.')\n",
    "        break"
   ]
  },
  {
   "cell_type": "code",
   "execution_count": 7,
   "metadata": {},
   "outputs": [
    {
     "name": "stdout",
     "output_type": "stream",
     "text": [
      "test_loss: tensor(0.1038, device='cuda:0')\n"
     ]
    }
   ],
   "source": [
    "test_dataloader = DataLoader(test_dataset, batch_size = len(test_dataset), num_workers = 4)\n",
    "with torch.no_grad():\n",
    "    for input, target in test_dataloader:\n",
    "        input = input.to(device, non_blocking=True).float()\n",
    "        target = target.to(device, non_blocking=True).float()\n",
    "        output = net(input)\n",
    "        test_loss = criterion(output, target)\n",
    "    print('test_loss:', test_loss)"
   ]
  },
  {
   "cell_type": "code",
   "execution_count": 8,
   "metadata": {},
   "outputs": [
    {
     "name": "stdout",
     "output_type": "stream",
     "text": [
      "1.0\n"
     ]
    }
   ],
   "source": [
    "test_dataloader = DataLoader(test_dataset, batch_size = 1, num_workers = 1)\n",
    "correct = 0\n",
    "with torch.no_grad():\n",
    "    for input, target in test_dataloader:\n",
    "        input = input.to(device, non_blocking=True).float()\n",
    "        target = target.to(device, non_blocking=True).float()\n",
    "        output = net(input)\n",
    "        if target.max(1)[1] == output.max(1)[1]:\n",
    "            correct += 1\n",
    "print(correct / len(test_dataset))"
   ]
  },
  {
   "cell_type": "code",
   "execution_count": null,
   "metadata": {},
   "outputs": [],
   "source": []
  }
 ],
 "metadata": {
  "kernelspec": {
   "display_name": "Python 3",
   "language": "python",
   "name": "python3"
  },
  "language_info": {
   "codemirror_mode": {
    "name": "ipython",
    "version": 3
   },
   "file_extension": ".py",
   "mimetype": "text/x-python",
   "name": "python",
   "nbconvert_exporter": "python",
   "pygments_lexer": "ipython3",
   "version": "3.6.9"
  }
 },
 "nbformat": 4,
 "nbformat_minor": 4
}
