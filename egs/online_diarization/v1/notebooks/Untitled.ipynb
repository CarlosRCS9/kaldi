{
 "cells": [
  {
   "cell_type": "code",
   "execution_count": 19,
   "metadata": {},
   "outputs": [
    {
     "name": "stdout",
     "output_type": "stream",
     "text": [
      "product used: 10 times.\n",
      "2048\n"
     ]
    }
   ],
   "source": [
    "class Metric:\n",
    "    def __init__(self):\n",
    "        self.prod_count = 0\n",
    "    def prod(self, a, b):\n",
    "        self.prod_count += 1\n",
    "        return a * b\n",
    "    def get(self):\n",
    "        print('product used: ' + str(self.prod_count) + ' times.')\n",
    "    \n",
    "def pow_iterative(a, b):\n",
    "    metric = Metric()\n",
    "    output = a\n",
    "    for i in range(b - 1):\n",
    "        output = metric.prod(output, a)\n",
    "    metric.get()\n",
    "    return output\n",
    "\n",
    "def pow_manly(a, b):\n",
    "    metric = Metric()\n",
    "    \n",
    "    \n",
    "    \n",
    "print(pow_iterative(2, 11))\n",
    "print(pow_manly(2, 11))"
   ]
  },
  {
   "cell_type": "code",
   "execution_count": null,
   "metadata": {},
   "outputs": [],
   "source": []
  }
 ],
 "metadata": {
  "kernelspec": {
   "display_name": "Python 3",
   "language": "python",
   "name": "python3"
  },
  "language_info": {
   "codemirror_mode": {
    "name": "ipython",
    "version": 3
   },
   "file_extension": ".py",
   "mimetype": "text/x-python",
   "name": "python",
   "nbconvert_exporter": "python",
   "pygments_lexer": "ipython3",
   "version": "3.6.9"
  }
 },
 "nbformat": 4,
 "nbformat_minor": 4
}
