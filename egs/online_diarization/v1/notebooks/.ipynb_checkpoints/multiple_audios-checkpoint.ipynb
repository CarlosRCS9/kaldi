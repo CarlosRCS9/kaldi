{
 "cells": [
  {
   "cell_type": "code",
   "execution_count": 1,
   "metadata": {},
   "outputs": [
    {
     "name": "stdout",
     "output_type": "stream",
     "text": [
      "Loading data: 249/249\r"
     ]
    }
   ],
   "source": [
    "import os\n",
    "import json\n",
    "\n",
    "def is_valid_segment(segment):\n",
    "    return len(segment['speakers']) == 1 \\\n",
    "            and len(segment['ivectors']) == 1 \\\n",
    "            and len(segment['xvectors']) == 1 \\\n",
    "            and segment['speakers'][0]['speaker_id'] in ['A', 'B']\n",
    "\n",
    "directory = '../exp/json'\n",
    "filenames = [filename for filename in os.listdir(directory) if os.path.isfile(os.path.join(directory, filename))]\n",
    "\n",
    "recordings_segments = {}\n",
    "recordings_length = len(filenames)\n",
    "recordings_count = 0\n",
    "for filename in filenames:\n",
    "    recording_id = filename.split('.')[0]\n",
    "    filepath = os.path.join(directory, filename)\n",
    "    file = open(filepath, 'r')\n",
    "    recordings_segments[recording_id] = [json.loads(line) for line in file.readlines()]\n",
    "    file.close()\n",
    "    recordings_segments[recording_id] = list(filter(is_valid_segment, recordings_segments[recording_id]))\n",
    "    recordings_count += 1\n",
    "    print('Loading data: ' + str(recordings_count) + '/' + str(recordings_length), end = '\\r')"
   ]
  },
  {
   "cell_type": "markdown",
   "metadata": {},
   "source": [
    "## Balancing the dataset"
   ]
  },
  {
   "cell_type": "code",
   "execution_count": 2,
   "metadata": {},
   "outputs": [],
   "source": [
    "from functools import reduce\n",
    "\n",
    "def speakers_get_indexes(accumulator, speaker_tuple):\n",
    "    speaker_id, index = speaker_tuple\n",
    "    if speaker_id in accumulator:\n",
    "        accumulator[speaker_id].append(index)\n",
    "    else:\n",
    "        accumulator[speaker_id] = [index]\n",
    "    return accumulator\n",
    "\n",
    "recordings_segments_cut = {}\n",
    "for recording_id in recordings_segments:\n",
    "    recording_segments = recordings_segments[recording_id]\n",
    "    speakers_indexes = [(segment['speakers'][0]['speaker_id'], index) for index, segment in enumerate(recording_segments)]\n",
    "    speakers_indexes = reduce(speakers_get_indexes, speakers_indexes, {})\n",
    "    speakers_lengths = [(speaker_id, len(speakers_indexes[speaker_id])) for speaker_id in speakers_indexes]\n",
    "    speakers_lengths.sort(key = lambda x: x[1])\n",
    "    speakers_lengths_min = speakers_lengths[0][1]\n",
    "    if len(speakers_lengths) > 1 and speakers_lengths_min > 20: # <-- IMPORTANT\n",
    "        recording_indexes = []\n",
    "        for speaker_id in speakers_indexes:\n",
    "            speakers_indexes[speaker_id] = speakers_indexes[speaker_id][:speakers_lengths_min]\n",
    "            recording_indexes += speakers_indexes[speaker_id]\n",
    "        recordings_segments_cut[recording_id] = [segment for index, segment in enumerate(recordings_segments[recording_id]) if index in recording_indexes]    "
   ]
  },
  {
   "cell_type": "code",
   "execution_count": null,
   "metadata": {},
   "outputs": [],
   "source": []
  }
 ],
 "metadata": {
  "kernelspec": {
   "display_name": "Python 3",
   "language": "python",
   "name": "python3"
  },
  "language_info": {
   "codemirror_mode": {
    "name": "ipython",
    "version": 3
   },
   "file_extension": ".py",
   "mimetype": "text/x-python",
   "name": "python",
   "nbconvert_exporter": "python",
   "pygments_lexer": "ipython3",
   "version": "3.6.9"
  }
 },
 "nbformat": 4,
 "nbformat_minor": 4
}
