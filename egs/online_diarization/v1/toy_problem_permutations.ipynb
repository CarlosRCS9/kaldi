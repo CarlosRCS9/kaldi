{
 "cells": [
  {
   "cell_type": "code",
   "execution_count": 1,
   "metadata": {},
   "outputs": [],
   "source": [
    "import torch\n",
    "import numpy\n",
    "import itertools"
   ]
  },
  {
   "cell_type": "code",
   "execution_count": 2,
   "metadata": {},
   "outputs": [
    {
     "name": "stdout",
     "output_type": "stream",
     "text": [
      "Running on the GPU.\n"
     ]
    }
   ],
   "source": [
    "if torch.cuda.is_available():\n",
    "    device = torch.device('cuda:0')\n",
    "    print('Running on the GPU.')\n",
    "else:\n",
    "    device = torch.device('cpu')\n",
    "    print('Running on the CPU.')"
   ]
  },
  {
   "cell_type": "markdown",
   "metadata": {},
   "source": [
    "## Data generation"
   ]
  },
  {
   "cell_type": "code",
   "execution_count": 3,
   "metadata": {},
   "outputs": [],
   "source": [
    "vector_length = 5\n",
    "models_variance = 1.0\n",
    "segments_length = 1000\n",
    "segments_variance = 5.0\n",
    "\n",
    "speakers_ids = ['A', 'B', 'C']\n",
    "speakers_models = [-152.0, 43.0, 898.0]\n",
    "speakers_models = [numpy.random.normal(speakers_models[i], models_variance, vector_length) for i, speaker_id in enumerate(speakers_ids)]\n",
    "\n",
    "speakers = {}\n",
    "for i, speaker_id in enumerate(speakers_ids):\n",
    "    speakers[speaker_id] = {}\n",
    "    speakers[speaker_id]['speaker_id'] = speaker_id\n",
    "    speakers[speaker_id]['models'] = [speakers_models[i]]\n",
    "\n",
    "segments = []\n",
    "for i, speaker_id in enumerate(speakers):\n",
    "    speaker = speakers[speaker_id]\n",
    "    for j in range(segments_length):\n",
    "        segments.append({ 'speaker_id': speaker_id, 'vector': numpy.asarray([numpy.random.normal(value, segments_variance) for value in speaker['models'][0]]) })\n"
   ]
  },
  {
   "cell_type": "markdown",
   "metadata": {},
   "source": [
    "## Data indexation"
   ]
  },
  {
   "cell_type": "code",
   "execution_count": 4,
   "metadata": {},
   "outputs": [],
   "source": [
    "models_container_length = 3\n",
    "\n",
    "#permutations = list(itertools.permutations(speakers_ids + ['0' for i in range(models_container_length)], models_container_length))\n",
    "permutations = list(itertools.permutations(speakers_ids, models_container_length))\n",
    "permutations = list(set(permutations))\n",
    "permutations_length = 0\n",
    "permutations_map = []\n",
    "for i, permutation in enumerate(permutations):\n",
    "    permutation_length = int(numpy.prod([len(speakers[speaker_id]['models']) for speaker_id in permutation if speaker_id in speakers_ids]))\n",
    "    permutations_map.append((permutations_length, permutations_length + permutation_length - 1, i))\n",
    "    permutations_length += permutation_length\n",
    "recording_length = len(segments) * permutations_length"
   ]
  },
  {
   "cell_type": "code",
   "execution_count": 5,
   "metadata": {},
   "outputs": [
    {
     "name": "stdout",
     "output_type": "stream",
     "text": [
      "18000\n"
     ]
    }
   ],
   "source": [
    "import torch\n",
    "from torch.utils.data import Dataset, DataLoader, random_split\n",
    "\n",
    "class Recordings_dataset(Dataset):\n",
    "    def __len__(self):\n",
    "        return recording_length\n",
    "    def __getitem__(self, idx):\n",
    "        segment_i, permutation_i = divmod(idx, permutations_length)\n",
    "        segment = segments[segment_i]\n",
    "        permutation_tuple = list(filter(lambda permutation_tuple: permutation_tuple[0] <= permutation_i and permutation_i <= permutation_tuple[1], permutations_map))[0]\n",
    "        permutation_i = permutation_tuple[2]\n",
    "        permutation = permutations[permutation_i]\n",
    "        vector = segment['vector']\n",
    "        models_container = [speakers[speaker_id]['models'][0] for speaker_id in permutation]\n",
    "        \n",
    "        x = numpy.concatenate([vector] + models_container)\n",
    "        y = numpy.asarray([speaker_id == segment['speaker_id'] for speaker_id in permutation], dtype = float)\n",
    "        \n",
    "        return x, y\n",
    "        \n",
    "recordings_dataset = Recordings_dataset()\n",
    "print(len(recordings_dataset))\n",
    "\n",
    "train_length = int(len(recordings_dataset) * 0.7)\n",
    "test_length = len(recordings_dataset) - train_length\n",
    "cross_length = int(train_length * 0.3)\n",
    "train_length = train_length - cross_length\n",
    "\n",
    "train_dataset, cross_dataset, test_dataset = random_split(recordings_dataset, [train_length, cross_length, test_length])\n",
    "train_dataloader = DataLoader(train_dataset, batch_size = 10, shuffle=True, num_workers = 4)\n",
    "cross_dataloader = DataLoader(cross_dataset, batch_size = len(cross_dataset), num_workers = 4)"
   ]
  },
  {
   "cell_type": "code",
   "execution_count": 6,
   "metadata": {},
   "outputs": [],
   "source": [
    "import torch.nn as nn\n",
    "import torch.nn.functional as F\n",
    "\n",
    "class Net(nn.Module):\n",
    "    def __init__(self):\n",
    "        super().__init__()\n",
    "        self.fc0 = nn.Linear(4 * vector_length, 6)\n",
    "        self.fc1 = nn.Linear(6, 6)\n",
    "        self.fc2 = nn.Linear(6, 6)\n",
    "        self.fc3 = nn.Linear(6, 3)\n",
    "    def forward(self, x):\n",
    "        x = F.relu(self.fc0(x))\n",
    "        x = F.relu(self.fc1(x))\n",
    "        x = F.relu(self.fc2(x))\n",
    "        x = F.sigmoid(self.fc3(x))\n",
    "        return x"
   ]
  },
  {
   "cell_type": "code",
   "execution_count": 10,
   "metadata": {},
   "outputs": [
    {
     "name": "stdout",
     "output_type": "stream",
     "text": [
      "epoch: 0 loss: tensor(0.3792, device='cuda:0', grad_fn=<BinaryCrossEntropyBackward>) cross_loss: tensor(0.3575, device='cuda:0')\n",
      "epoch: 1 loss: tensor(0.2142, device='cuda:0', grad_fn=<BinaryCrossEntropyBackward>) cross_loss: tensor(0.2255, device='cuda:0')\n",
      "epoch: 2 loss: tensor(0.1862, device='cuda:0', grad_fn=<BinaryCrossEntropyBackward>) cross_loss: tensor(0.1885, device='cuda:0')\n",
      "epoch: 3 loss: tensor(0.2340, device='cuda:0', grad_fn=<BinaryCrossEntropyBackward>) cross_loss: tensor(0.1577, device='cuda:0')\n",
      "epoch: 4 loss: tensor(0.1109, device='cuda:0', grad_fn=<BinaryCrossEntropyBackward>) cross_loss: tensor(0.1335, device='cuda:0')\n",
      "epoch: 5 loss: tensor(0.0938, device='cuda:0', grad_fn=<BinaryCrossEntropyBackward>) cross_loss: tensor(0.1121, device='cuda:0')\n",
      "epoch: 6 loss: tensor(0.1126, device='cuda:0', grad_fn=<BinaryCrossEntropyBackward>) cross_loss: tensor(0.0780, device='cuda:0')\n",
      "epoch: 7 loss: tensor(0.0969, device='cuda:0', grad_fn=<BinaryCrossEntropyBackward>) cross_loss: tensor(0.0687, device='cuda:0')\n",
      "epoch: 8 loss: tensor(0.0872, device='cuda:0', grad_fn=<BinaryCrossEntropyBackward>) cross_loss: tensor(0.0619, device='cuda:0')\n",
      "epoch: 9 loss: tensor(0.0592, device='cuda:0', grad_fn=<BinaryCrossEntropyBackward>) cross_loss: tensor(0.0560, device='cuda:0')\n",
      "epoch: 10 loss: tensor(0.0215, device='cuda:0', grad_fn=<BinaryCrossEntropyBackward>) cross_loss: tensor(0.0273, device='cuda:0')\n",
      "Done training.\n"
     ]
    }
   ],
   "source": [
    "import torch.optim as optim\n",
    "\n",
    "net = Net().to(device)\n",
    "\n",
    "optimizer = optim.Adam(net.parameters(), lr = 0.0005)\n",
    "criterion = nn.BCELoss()\n",
    "\n",
    "epochs = 100\n",
    "for epoch in range(epochs):\n",
    "    for input, target in train_dataloader:\n",
    "        input = input.to(device, non_blocking=True).float()\n",
    "        target = target.to(device, non_blocking=True).float()\n",
    "\n",
    "        net.zero_grad()\n",
    "\n",
    "        output = net(input)\n",
    "\n",
    "        loss = criterion(output, target)\n",
    "\n",
    "        loss.backward()\n",
    "        optimizer.step()\n",
    "    with torch.no_grad():\n",
    "        for input, target in cross_dataloader:\n",
    "            input = input.to(device, non_blocking=True).float()\n",
    "            target = target.to(device, non_blocking=True).float()\n",
    "            output = net(input)\n",
    "            cross_loss = criterion(output, target)\n",
    "        \n",
    "    print('epoch:', epoch, 'loss:', loss, 'cross_loss:', cross_loss)\n",
    "    \n",
    "    if cross_loss < 0.05:\n",
    "        print('Done training.')\n",
    "        break"
   ]
  },
  {
   "cell_type": "code",
   "execution_count": 11,
   "metadata": {},
   "outputs": [
    {
     "name": "stdout",
     "output_type": "stream",
     "text": [
      "test_loss: tensor(0.0273, device='cuda:0')\n"
     ]
    }
   ],
   "source": [
    "test_dataloader = DataLoader(test_dataset, batch_size = len(test_dataset), num_workers = 4)\n",
    "with torch.no_grad():\n",
    "    for input, target in test_dataloader:\n",
    "        input = input.to(device, non_blocking=True).float()\n",
    "        target = target.to(device, non_blocking=True).float()\n",
    "        output = net(input)\n",
    "        test_loss = criterion(output, target)\n",
    "    print('test_loss:', test_loss)"
   ]
  },
  {
   "cell_type": "code",
   "execution_count": 12,
   "metadata": {},
   "outputs": [
    {
     "name": "stdout",
     "output_type": "stream",
     "text": [
      "1.0\n"
     ]
    }
   ],
   "source": [
    "test_dataloader = DataLoader(test_dataset, batch_size = 1, num_workers = 1)\n",
    "correct = 0\n",
    "with torch.no_grad():\n",
    "    for input, target in test_dataloader:\n",
    "        input = input.to(device, non_blocking=True).float()\n",
    "        target = target.to(device, non_blocking=True).float()\n",
    "        output = net(input)\n",
    "        if target.max(1)[1] == output.max(1)[1]:\n",
    "            correct += 1\n",
    "print(correct / len(test_dataset))"
   ]
  },
  {
   "cell_type": "code",
   "execution_count": null,
   "metadata": {},
   "outputs": [],
   "source": []
  }
 ],
 "metadata": {
  "kernelspec": {
   "display_name": "Python 3",
   "language": "python",
   "name": "python3"
  },
  "language_info": {
   "codemirror_mode": {
    "name": "ipython",
    "version": 3
   },
   "file_extension": ".py",
   "mimetype": "text/x-python",
   "name": "python",
   "nbconvert_exporter": "python",
   "pygments_lexer": "ipython3",
   "version": "3.6.9"
  }
 },
 "nbformat": 4,
 "nbformat_minor": 4
}
