{
 "cells": [
  {
   "cell_type": "code",
   "execution_count": 1,
   "metadata": {},
   "outputs": [],
   "source": [
    "import os\n",
    "import json\n",
    "from copy import copy\n",
    "import numpy\n",
    "import torch"
   ]
  },
  {
   "cell_type": "code",
   "execution_count": 2,
   "metadata": {},
   "outputs": [],
   "source": [
    "folder = 'exp/json'\n",
    "files = [f for f in os.listdir(folder) if os.path.isfile(os.path.join(folder, f))]\n",
    "for f in files:\n",
    "    f = open(os.path.join(folder, f))\n",
    "    recording = json.loads(f.readline())\n",
    "    # Removing multiple-speaker segments\n",
    "    recording['segments'] = [segment for segment in recording['segments'] if len(segment['speakers']) == 1]\n",
    "    # Removing extra speakers\n",
    "    recording['segments'] = [segment for segment in recording['segments'] if segment['speakers'][0]['speaker_id'] in ['A', 'B']]\n",
    "    # Dealing with multiple-vector segments\n",
    "    new_segments = []\n",
    "    for segment in recording['segments']:\n",
    "        for i in range(len(segment['ivectors'])):\n",
    "            new_segment = copy(segment)\n",
    "            new_segment['ivectors'] = [segment['ivectors'][i]]\n",
    "            new_segment['xvectors'] = [segment['xvectors'][i]]\n",
    "            new_segments.append(new_segment)\n",
    "    recording['segments'] = new_segments\n",
    "    # Lists to numpy arrays\n",
    "    for segment in recording['segments']:\n",
    "        segment['ivectors'][0]['value'] = numpy.asarray(segment['ivectors'][0]['value'])\n",
    "        segment['xvectors'][0]['value'] = numpy.asarray(segment['xvectors'][0]['value'])\n",
    "    # Getting speakers list\n",
    "    speakers = list(set([segment['speakers'][0]['speaker_id'] for segment in recording['segments']]))\n",
    "    # Getting speakers oracle models\n",
    "    oracle_limit = 5\n",
    "    oracle_segments = [[segment for segment in recording['segments'] if segment['speakers'][0]['speaker_id'] == speaker][:oracle_limit] for speaker in speakers]\n",
    "    oracle_models = []\n",
    "    for n, speaker_n in enumerate(speakers):\n",
    "        ivector_n = oracle_segments[n][0]['ivectors'][0]['value']\n",
    "        xvector_n = oracle_segments[n][0]['xvectors'][0]['value']\n",
    "        for segment in oracle_segments[n][1:]:\n",
    "            ivector_n = ivector_n + segment['ivectors'][0]['value']\n",
    "            xvector_n = xvector_n + segment['xvectors'][0]['value']\n",
    "        ivector_n = ivector_n / len(oracle_segments[n])\n",
    "        xvector_n = xvector_n / len(oracle_segments[n])\n",
    "        oracle_models.append({ 'speaker_id': speaker_n, 'ivector': ivector_n, 'xvector': xvector_n })"
   ]
  },
  {
   "cell_type": "code",
   "execution_count": null,
   "metadata": {},
   "outputs": [],
   "source": []
  }
 ],
 "metadata": {
  "kernelspec": {
   "display_name": "Python 3",
   "language": "python",
   "name": "python3"
  },
  "language_info": {
   "codemirror_mode": {
    "name": "ipython",
    "version": 3
   },
   "file_extension": ".py",
   "mimetype": "text/x-python",
   "name": "python",
   "nbconvert_exporter": "python",
   "pygments_lexer": "ipython3",
   "version": "3.6.9"
  }
 },
 "nbformat": 4,
 "nbformat_minor": 4
}
