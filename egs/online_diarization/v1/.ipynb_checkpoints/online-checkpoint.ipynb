{
 "cells": [
  {
   "cell_type": "code",
   "execution_count": 1,
   "metadata": {},
   "outputs": [],
   "source": [
    "import os\n",
    "import json\n",
    "from copy import copy\n",
    "import numpy\n",
    "import itertools"
   ]
  },
  {
   "cell_type": "code",
   "execution_count": 2,
   "metadata": {},
   "outputs": [],
   "source": [
    "folder = 'exp/json'\n",
    "filenames = [f for f in os.listdir(folder) if os.path.isfile(os.path.join(folder, f))]\n",
    "data = {}\n",
    "\n",
    "def is_valid_segment(line):\n",
    "    segment = json.loads(line)\n",
    "    return len(segment['speakers']) == 1 \\\n",
    "            and segment['speakers'][0]['speaker_id'] in ['A', 'B'] \\\n",
    "            and len(segment['ivectors']) == 1 \\\n",
    "            and len(segment['xvectors']) == 1\n",
    "\n",
    "for filename in filenames:\n",
    "    recording_id = filename.split('.')[0]\n",
    "    filepath = os.path.join(folder, filename)\n",
    "    file = open(filepath)\n",
    "    # Removing multiple-speaker, extra-speaker and multiple-vector segments\n",
    "    indexes = [index for index, line in enumerate(file.readlines()) if is_valid_segment(line)]\n",
    "    file.close()\n",
    "    data[recording_id] = {}\n",
    "    data[recording_id]['filepath'] = filepath\n",
    "    data[recording_id]['indexes'] = indexes"
   ]
  },
  {
   "cell_type": "code",
   "execution_count": 3,
   "metadata": {},
   "outputs": [
    {
     "name": "stdout",
     "output_type": "stream",
     "text": [
      "iaqh\r"
     ]
    }
   ],
   "source": [
    "oracle_lengths = [1, 2, 3, 4, 5]\n",
    "models_container_size = 4\n",
    "data_length = 0\n",
    "data_indexes = []\n",
    "delete_recordings_ids = []\n",
    "for recording_id in data:\n",
    "    file = open(data[recording_id]['filepath'])\n",
    "    segments = [json.loads(line) for index, line in enumerate(file.readlines()) if index in data[recording_id]['indexes']]\n",
    "    speakers_ids = list(set([segment['speakers'][0]['speaker_id'] for segment in segments]))\n",
    "    if len(speakers_ids) > 1:\n",
    "        data[recording_id]['oracle'] = {}\n",
    "        for speaker_id in speakers_ids:\n",
    "            speaker_ivectors, speaker_xvectors = zip(*[(segment['ivectors'][0]['value'], segment['xvectors'][0]['value']) for segment in segments if segment['speakers'][0]['speaker_id'] == speaker_id])\n",
    "            data[recording_id]['oracle'][speaker_id] = {}\n",
    "            for oracle_length in oracle_lengths:\n",
    "                oracle_ivector_segments = numpy.array(speaker_ivectors[:oracle_length])\n",
    "                oracle_ivector = oracle_ivector_segments.sum(axis = 0) / len(oracle_ivector_segments)\n",
    "                oracle_xvector_segments = numpy.array(speaker_xvectors[:oracle_length])\n",
    "                oracle_xvector = oracle_xvector_segments.sum(axis = 0) / len(oracle_xvector_segments)\n",
    "                data[recording_id]['oracle'][speaker_id][oracle_length] = {}\n",
    "                data[recording_id]['oracle'][speaker_id][oracle_length]['ivectors'] = [oracle_ivector]\n",
    "                data[recording_id]['oracle'][speaker_id][oracle_length]['xvectors'] = [oracle_xvector]\n",
    "        for speaker_id in speakers_ids:\n",
    "            data[recording_id]['oracle']['0'] = {}\n",
    "            for oracle_length in oracle_lengths:\n",
    "                data[recording_id]['oracle']['0'][oracle_length] = {}\n",
    "                data[recording_id]['oracle']['0'][oracle_length]['ivectors'] = [numpy.zeros(len(data[recording_id]['oracle'][speaker_id][oracle_length]['ivectors'][0]))]\n",
    "                data[recording_id]['oracle']['0'][oracle_length]['xvectors'] = [numpy.zeros(len(data[recording_id]['oracle'][speaker_id][oracle_length]['xvectors'][0]))]\n",
    "            break\n",
    "        permutations = list(itertools.permutations(speakers_ids + ['0' for i in range(models_container_size)], models_container_size))\n",
    "        permutations = list(set(permutations))\n",
    "        data[recording_id]['permutations'] = permutations\n",
    "        data[recording_id]['oracle_lengths'] = oracle_lengths\n",
    "        length = len(segments) * len(oracle_lengths) * len(permutations)\n",
    "        data_indexes.append((data_length, data_length + length - 1, recording_id))\n",
    "        data_length += length\n",
    "    else:\n",
    "        delete_recordings_ids.append(recording_id)\n",
    "    print(recording_id, end =  '\\r')\n",
    "for recording_id in delete_recordings_ids:\n",
    "    del data[recording_id]"
   ]
  },
  {
   "cell_type": "code",
   "execution_count": 4,
   "metadata": {},
   "outputs": [
    {
     "name": "stdout",
     "output_type": "stream",
     "text": [
      "3219720\n"
     ]
    }
   ],
   "source": [
    "import torch\n",
    "from torch.utils.data import Dataset, DataLoader, random_split\n",
    "\n",
    "class SegmentsDataset(Dataset):\n",
    "    def __init__(self, recordings_data, recordings_data_length, recordings_data_indexes, mode = 'ivectors'):\n",
    "        self.recordings_data = recordings_data\n",
    "        self.recordings_data_length = recordings_data_length\n",
    "        self.recordings_data_indexes = recordings_data_indexes\n",
    "        self.mode = mode\n",
    "    def __len__(self):\n",
    "        return self.recordings_data_length\n",
    "    def __getitem__(self, idx):\n",
    "        data_index = list(filter(lambda data_index: data_index[0] <= idx and idx <= data_index[1], self.recordings_data_indexes))[0]\n",
    "        recording_id = data_index[2]\n",
    "        recording_data = self.recordings_data[recording_id]\n",
    "        recording_index = idx - data_index[0] # Index relative to the recording data\n",
    "        segment_index, remainder = divmod(recording_index, (len(recording_data['oracle'][next(iter(recording_data['oracle']))]) * len(recording_data['permutations'])))\n",
    "        segment_index = recording_data['indexes'][segment_index]\n",
    "        oracle_index, permutation_index = divmod(remainder, len(recording_data['permutations']))\n",
    "        segment = json.loads(open(recording_data['filepath']).readlines()[segment_index])\n",
    "        vector = numpy.array(segment[self.mode][0]['value'])\n",
    "        permutation = recording_data['permutations'][permutation_index]\n",
    "        permutation = [recording_data['oracle'][speaker_id][recording_data['oracle_lengths'][oracle_index]][self.mode][0] for speaker_id in permutation]\n",
    "        x = numpy.concatenate([vector] + permutation)\n",
    "        y = numpy.asarray([speaker_id == segment['speakers'][0]['speaker_id'] for speaker_id in recording_data['permutations'][permutation_index]], dtype = float)\n",
    "        return x, y\n",
    "    \n",
    "segments_dataset = SegmentsDataset(data, data_length, data_indexes)\n",
    "print(len(segments_dataset))\n",
    "train_length = int(len(segments_dataset) * 0.7)\n",
    "test_length = len(segments_dataset) - train_length\n",
    "train_dataset, test_dataset = random_split(segments_dataset, [train_length, test_length])\n",
    "train_dataloader = DataLoader(train_dataset, batch_size = 10, shuffle=True, num_workers = 4)\n",
    "test_dataloader = DataLoader(test_dataset, batch_size = 1, shuffle=False, num_workers = 1)"
   ]
  },
  {
   "cell_type": "code",
   "execution_count": 12,
   "metadata": {},
   "outputs": [],
   "source": [
    "import torch.nn as nn\n",
    "import torch.nn.functional as F\n",
    "\n",
    "class Net(nn.Module):\n",
    "    def __init__(self):\n",
    "        super().__init__()\n",
    "        self.fc0 = nn.Linear(128 * (models_container_size + 1), 512)\n",
    "        self.fc1 = nn.Linear(512, 512)\n",
    "        self.fc2 = nn.Linear(512, 512)\n",
    "        self.fc3 = nn.Linear(512, 512)\n",
    "        self.fc4 = nn.Linear(512, 512)\n",
    "        self.fc5 = nn.Linear(512, 512)\n",
    "        self.fc6 = nn.Linear(512, 512)\n",
    "        self.fc7 = nn.Linear(512, models_container_size)\n",
    "    def forward(self, x):\n",
    "        x = F.relu(self.fc0(x))\n",
    "        x = F.relu(self.fc1(x))\n",
    "        x = F.relu(self.fc2(x))\n",
    "        x = F.relu(self.fc3(x))\n",
    "        x = F.relu(self.fc4(x))\n",
    "        x = F.relu(self.fc5(x))\n",
    "        x = F.relu(self.fc6(x))\n",
    "        x = torch.sigmoid(self.fc7(x))\n",
    "        return x\n",
    "    \n",
    "net = Net().cuda()"
   ]
  },
  {
   "cell_type": "code",
   "execution_count": null,
   "metadata": {},
   "outputs": [],
   "source": [
    "import torch.optim as optim\n",
    "\n",
    "optimizer = optim.Adam(net.parameters(), lr = 0.001)\n",
    "\n",
    "#criterion = nn.CrossEntropyLoss()\n",
    "#criterion = nn.MSELoss()\n",
    "criterion = nn.BCELoss()\n",
    "\n",
    "epochs = 3\n",
    "for epoch in range(epochs):\n",
    "    for input, target in train_dataloader:\n",
    "        input = input.to('cuda', non_blocking=True)\n",
    "        target = target.to('cuda', non_blocking=True)\n",
    "        net.zero_grad()\n",
    "        output = net(input.float())\n",
    "        loss = criterion(output, target.float())\n",
    "        loss.backward()\n",
    "        optimizer.step()\n",
    "        print(loss, end = '\\r')\n",
    "        if loss < 0.2\n",
    "            break\n",
    "        "
   ]
  },
  {
   "cell_type": "code",
   "execution_count": null,
   "metadata": {},
   "outputs": [],
   "source": [
    "with torch.no_grad():\n",
    "    for input, target in test_dataloader:\n",
    "        output = net(input.float())\n",
    "        print('target:', target)\n",
    "        print('output:', output)"
   ]
  },
  {
   "cell_type": "code",
   "execution_count": null,
   "metadata": {},
   "outputs": [],
   "source": [
    "loss = nn.CrossEntropyLoss()\n",
    "input = torch.randn(3, 5, requires_grad=True)\n",
    "target = torch.empty(3, dtype=torch.long).random_(5)\n",
    "print(input)\n",
    "print(target)\n",
    "output = loss(input, target)\n",
    "print(output)"
   ]
  }
 ],
 "metadata": {
  "kernelspec": {
   "display_name": "Python 3",
   "language": "python",
   "name": "python3"
  },
  "language_info": {
   "codemirror_mode": {
    "name": "ipython",
    "version": 3
   },
   "file_extension": ".py",
   "mimetype": "text/x-python",
   "name": "python",
   "nbconvert_exporter": "python",
   "pygments_lexer": "ipython3",
   "version": "3.6.9"
  }
 },
 "nbformat": 4,
 "nbformat_minor": 4
}
